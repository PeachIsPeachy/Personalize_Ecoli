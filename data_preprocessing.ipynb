{
 "cells": [
  {
   "cell_type": "code",
   "execution_count": 2,
   "id": "ca0f6cbd",
   "metadata": {},
   "outputs": [
    {
     "name": "stderr",
     "output_type": "stream",
     "text": [
      "/tmp/ipykernel_276416/545082658.py:2: DtypeWarning: Columns (17) have mixed types. Specify dtype option on import or set low_memory=False.\n",
      "  df = pd.read_csv(\"/home/chanbo.s/personalized_ecoli/microbiologyevents.csv\")\n"
     ]
    },
    {
     "name": "stdout",
     "output_type": "stream",
     "text": [
      "   subject_id gender  anchor_age\n",
      "0    10000032      F          52\n",
      "1    10000048      F          23\n",
      "2    10000058      F          33\n",
      "3    10000068      F          19\n",
      "4    10000084      M          72\n",
      "Merged and cleaned dataset saved as 'merged_microbiology_admissions_final.csv'.\n"
     ]
    }
   ],
   "source": [
    "import pandas as pd\n",
    "df = pd.read_csv(\"/home/chanbo.s/personalized_ecoli/microbiologyevents.csv\")\n",
    "micro_df = df[df[\"org_name\"] == \"ESCHERICHIA COLI\"]\n",
    "len(micro_df)\n",
    "patient_df = pd.read_csv(\"/home/chanbo.s/personalized_ecoli/patients.csv\")\n",
    "patient_df = patient_df.drop(['anchor_year', 'anchor_year_group', 'dod'], axis=1)\n",
    "print(patient_df.head())\n",
    "\n",
    "\n",
    "\n",
    "agg_micro = micro_df.groupby('subject_id').agg({\n",
    "    'ab_name': list,\n",
    "    'interpretation': list,\n",
    "    'spec_type_desc': lambda x: x.mode()[0],  \n",
    "    'test_name': lambda x: x.mode()[0]        \n",
    "}).reset_index()\n",
    "\n",
    "\n",
    "def categorize_antibiotics(row):\n",
    "    effective, ineffective = set(), set()\n",
    "    for ab, interp in zip(row['ab_name'], row['interpretation']):\n",
    "        if interp == 'S':\n",
    "            effective.add(ab)\n",
    "        elif interp in {'R', 'I'}:\n",
    "            ineffective.add(ab)\n",
    "    return list(effective), list(ineffective)\n",
    "\n",
    "\n",
    "agg_micro[['effective_antibiotics', 'ineffective_antibiotics']] = agg_micro.apply(\n",
    "    categorize_antibiotics, axis=1, result_type='expand'\n",
    ")\n",
    "\n",
    "\n",
    "agg_micro['num_antibiotics_tested'] = agg_micro['ab_name'].apply(lambda x: len(set(x)))\n",
    "\n",
    "\n",
    "patient_df = patient_df.drop(columns=['anchor_year', 'anchor_year_group', 'dod'], errors='ignore')\n",
    "merged_df = agg_micro.merge(patient_df, on='subject_id', how='left')\n",
    "\n",
    "\n",
    "antibiotic_counts = pd.Series([ab for sublist in merged_df['effective_antibiotics'] for ab in sublist]).value_counts()\n",
    "common_antibiotics = set(antibiotic_counts[antibiotic_counts >= 5].index)\n",
    "\n",
    "\n",
    "merged_df['effective_antibiotics'] = merged_df['effective_antibiotics'].apply(\n",
    "    lambda lst: [ab for ab in lst if ab in common_antibiotics]\n",
    ")\n",
    "merged_df['ineffective_antibiotics'] = merged_df['ineffective_antibiotics'].apply(\n",
    "    lambda lst: [ab for ab in lst if ab in common_antibiotics]\n",
    ")\n",
    "merged_df = merged_df[merged_df['effective_antibiotics'].apply(len) > 0]\n",
    "merged_df.to_csv(\"merged_microbiology_admissions_final.csv.csv\", index=False)\n",
    "print(\"Merged and cleaned dataset saved as 'merged_microbiology_admissions_final.csv'.\")\n"
   ]
  }
 ],
 "metadata": {
  "kernelspec": {
   "display_name": "env_share",
   "language": "python",
   "name": "python3"
  },
  "language_info": {
   "codemirror_mode": {
    "name": "ipython",
    "version": 3
   },
   "file_extension": ".py",
   "mimetype": "text/x-python",
   "name": "python",
   "nbconvert_exporter": "python",
   "pygments_lexer": "ipython3",
   "version": "3.10.5"
  }
 },
 "nbformat": 4,
 "nbformat_minor": 5
}
